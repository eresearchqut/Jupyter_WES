{
 "cells": [
  {
   "cell_type": "markdown",
   "id": "3beee1c1-9fc9-4a4a-8b35-9ed1a0b7076d",
   "metadata": {},
   "source": [
    "# 1. nfcore/sarek workflow"
   ]
  },
  {
   "cell_type": "markdown",
   "id": "961e70bc-c327-484a-b254-013827c3ca41",
   "metadata": {},
   "source": [
    "From the [nfcore/sarek website](https://nf-co.re/sarek/3.2.3):\n",
    "\n",
    "> nf-core/sarek is a workflow designed to detect variants on whole genome or targeted sequencing data. Initially designed for Human, and Mouse, it can work on any species with a reference genome.\n",
    "\n",
    "> The pipeline is built using [Nextflow](https://www.nextflow.io/), a workflow tool to run tasks across multiple compute infrastructures in a very portable manner."
   ]
  },
  {
   "cell_type": "markdown",
   "id": "f367d4b0-0652-44ab-a6de-6044a4baa52b",
   "metadata": {
    "tags": []
   },
   "source": [
    "# Contents\n",
    "\n",
    "[1a. Prerequisites](#prereq2)\n",
    "\n",
    "[1b. nfcore/sarek workflow overview](#overview2)\n",
    "\n",
    "[1c. Running a test dataset](#test)\n",
    "\n",
    "[1d. Initial setup](#setup)\n",
    "\n",
    "[1e. Creating a samplesheet](#sampsheet)"
   ]
  },
  {
   "cell_type": "markdown",
   "id": "c7485bac-9eef-4564-8209-0c092e5d29f0",
   "metadata": {},
   "source": [
    "**************"
   ]
  },
  {
   "cell_type": "markdown",
   "id": "cd1a0fa2-33f0-4e54-9a99-06b7d536408a",
   "metadata": {},
   "source": [
    "## 1a. Prerequisites <a class=\"anchor\" id=\"prereq2\"></a>"
   ]
  },
  {
   "cell_type": "markdown",
   "id": "8a1e1d4c-6f92-4ff6-9ff0-09b5c46faa74",
   "metadata": {},
   "source": [
    "To run the nfcore/sarek workflow, you will need:"
   ]
  },
  {
   "cell_type": "markdown",
   "id": "d26aed91-a2c8-4f3f-ba2c-f7810024c5cd",
   "metadata": {},
   "source": [
    "1. **A QUT HPC account.** If you are seeing this Notebook, you most likely already have a HPC account. Regardless, you can request an account be created, or request any other HPC or bioinformatics support, via the portal here: https://eresearchqut.atlassian.net/servicedesk/customer/portals\n",
    "\n",
    "2. Nextflow needs to be installed on your HPC account. **If you haven't already installed Nextflow, or you need to update Nextflow to the latest version, click on the following link, which will download and open a Jupyter Notebook that will step you through installing Nextflow:** https://jupyterhub.eres.qut.edu.au/hub/user-redirect/git-pull?repo=https%3A%2F%2Fgithub.com%2Feresearchqut%2FJupyter_Nextflow_install&urlpath=lab%2Ftree%2FJupyter_Nextflow_install%2FNextflow.ipynb&branch=main\n",
    "\n",
    "3. **Your sequence data files** (fastq.gz format) copied to a location on the QUT HPC that you can access. If you are unsure of the location of your data files, submit a service request through the portal (link above)."
   ]
  },
  {
   "cell_type": "markdown",
   "id": "1159786e-4af5-4204-8140-455ca9f4f62c",
   "metadata": {},
   "source": [
    "*************"
   ]
  },
  {
   "cell_type": "markdown",
   "id": "be7f4f8d-80da-4dd8-9b6b-0052d6fa4e96",
   "metadata": {},
   "source": [
    "## 1b. nfcore/sarek workflow overview <a class=\"anchor\" id=\"overview2\"></a>"
   ]
  },
  {
   "cell_type": "markdown",
   "id": "8ba14840-c1d8-4160-8daf-cc52932780fa",
   "metadata": {},
   "source": [
    "Below is an schematic outlining the nfcore/sarek workflow. For a more detailed overview, click [here](https://nf-co.re/sarek/3.2.3). To see how to run nfcore/sarek from the command-line, see [here](https://nf-co.re/sarek/3.2.3/docs/usage). To see what results nfcore/sarek generates, click [here](https://nf-co.re/sarek/3.2.3/docs/output)."
   ]
  },
  {
   "cell_type": "markdown",
   "id": "cd6784bd-9b45-4d50-b8ff-f2a6bddc39ab",
   "metadata": {
    "tags": []
   },
   "source": [
    "<div>\n",
    "<img src=\"https://raw.githubusercontent.com/nf-core/sarek/3.2.3//docs/images/sarek_workflow.png\" width=\"300\">\n",
    "    </div>"
   ]
  },
  {
   "cell_type": "markdown",
   "id": "81b3775e-97d3-4968-8ab3-297689a462ee",
   "metadata": {},
   "source": [
    "**************"
   ]
  },
  {
   "cell_type": "markdown",
   "id": "dbf24bf9-bfaf-4dc6-8f22-ca0672bbb652",
   "metadata": {},
   "source": [
    "## 1c. Running a test dataset <a class=\"anchor\" id=\"test\"></a>"
   ]
  },
  {
   "cell_type": "markdown",
   "id": "906a0565-7d56-466f-bf4e-1b70f00f72ea",
   "metadata": {},
   "source": [
    "This section will run a small test dataset through the nfcore/sarek workflow, to see if you can successfully run nfcore/sarek."
   ]
  },
  {
   "cell_type": "markdown",
   "id": "fe709295-5875-4841-ae88-dc7a2da60e1a",
   "metadata": {},
   "source": [
    "<div class=\"alert alert-block alert-success\">\n",
    "Run the following code cell to run the nfcore/sarek test. Note that this is set to run without output messages (`-q`) as these will span multiple pages. Instead `nextflow log -f status` is run after the test run has finished, to see if the job ran sucessfully. The test takes approx 3 minutes to complete.\n",
    "</div>"
   ]
  },
  {
   "cell_type": "code",
   "execution_count": null,
   "id": "696e0251-f0dd-44c5-a8d5-7d2873f53222",
   "metadata": {
    "tags": []
   },
   "outputs": [],
   "source": [
    "mkdir $HOME/nftemp && cd $HOME/nftemp\n",
    "nextflow -q run nf-core/sarek -r 3.2.2 --outdir test -profile test,singularity\n",
    "nextflow log -f status"
   ]
  },
  {
   "cell_type": "markdown",
   "id": "4f6e5cdb-7dd4-45d0-b145-8011e3cef24e",
   "metadata": {},
   "source": [
    "**In the last 3 lines you should see a table with `TIMESTAMP` .. `DURATION`, etc (You can ignore any `WARN` messages). If the `STATUS` is `OK` then the test run was successful and you can go to the next section. If you don't see `STATUS` being `OK`, submit a support request through the [Portal](https://eresearchqut.atlassian.net/servicedesk/customer/portals).** "
   ]
  },
  {
   "cell_type": "markdown",
   "id": "cbd61a1c-e44c-4d6d-8da1-28cae6454233",
   "metadata": {},
   "source": [
    "<div class=\"alert alert-block alert-success\">\n",
    "To run the above test, Nextflow downloads test data and generates numerous output directories and files. These should be removed after the test is run, by running the following:  \n",
    "    </div>"
   ]
  },
  {
   "cell_type": "code",
   "execution_count": null,
   "id": "d3c67be6-1b40-456a-91cd-3d97ddff662b",
   "metadata": {},
   "outputs": [],
   "source": [
    "cd $HOME\n",
    "rm -rf nftemp"
   ]
  },
  {
   "cell_type": "markdown",
   "id": "dde31913-1ee6-4090-b9b9-b5b4146a65d7",
   "metadata": {},
   "source": [
    "*************"
   ]
  },
  {
   "cell_type": "markdown",
   "id": "4880d082-6c1d-403b-a81f-867f3b58831a",
   "metadata": {},
   "source": [
    "## 1d. Initial setup <a class=\"anchor\" id=\"setup\"></a>"
   ]
  },
  {
   "cell_type": "markdown",
   "id": "bbd460a7-d7db-40e5-b1dc-6468ec717691",
   "metadata": {},
   "source": [
    "<div class=\"alert alert-block alert-info\">\n",
    "Enter the directory that contains your sequence data files. You can find this directory path by typing 'pwd' on the command-line when you are in that directory, or by contacting the HPC staff via the [portal](https://eresearchqut.atlassian.net/servicedesk/customer/portals). The structure of the below command should be `root_path=/directory/containing/my/vcf/files`.\n",
    "</div>"
   ]
  },
  {
   "cell_type": "code",
   "execution_count": null,
   "id": "0b9b49f1-5732-43cf-9670-116307edacf6",
   "metadata": {
    "tags": []
   },
   "outputs": [],
   "source": [
    "root_path=/work/eresearch_bio/projects/ATGC/Andrea_Magnioni/20230725_WES/data/jupyter_dev"
   ]
  },
  {
   "cell_type": "markdown",
   "id": "3e3f9ebb-3816-45b1-8ba3-ab94806aa195",
   "metadata": {},
   "source": [
    "<div class=\"alert alert-block alert-success\">\n",
    "Now move to the above directory (cd = change directory): \n",
    "</div>"
   ]
  },
  {
   "cell_type": "code",
   "execution_count": null,
   "id": "7c46b359-c950-45ab-a8bc-00820eb64709",
   "metadata": {
    "tags": []
   },
   "outputs": [],
   "source": [
    "cd $root_path"
   ]
  },
  {
   "cell_type": "markdown",
   "id": "0e48d375-27ea-4c91-9567-5c81129c1e3b",
   "metadata": {},
   "source": [
    "<div class=\"alert alert-block alert-danger\">\n",
    "NOTE: the above two code cells must be run every time you use this Notebook.\n",
    "    </div>"
   ]
  },
  {
   "cell_type": "markdown",
   "id": "91c12e24-2ec2-4f91-afea-402a01b89626",
   "metadata": {},
   "source": [
    "<div class=\"alert alert-block alert-warning\">\n",
    "To see if you are in the correct directory, run the 'ls' code cell below. You should see a list of all your sample files ('...fastq.gz' or '...fq.gz' files). If you don't see the files, you've entered the above location incorrectly and need to correct and re-run the above code cell.\n",
    "</div>"
   ]
  },
  {
   "cell_type": "code",
   "execution_count": null,
   "id": "9928d8f5-d4e4-4f6e-ad91-32467a0e35f0",
   "metadata": {},
   "outputs": [],
   "source": [
    "ls"
   ]
  },
  {
   "cell_type": "markdown",
   "id": "9d3131be-8581-4bea-aafe-99169bd785de",
   "metadata": {},
   "source": [
    "********"
   ]
  },
  {
   "cell_type": "markdown",
   "id": "cfd48686-4c96-48c2-8770-1d5f72a1ab92",
   "metadata": {},
   "source": [
    "## 1e. Creating a samplesheet <a class=\"anchor\" id=\"sampsheet\"></a>"
   ]
  },
  {
   "cell_type": "markdown",
   "id": "8635a814-0217-4a07-8c7d-dcd1109cb019",
   "metadata": {},
   "source": [
    "nfcore/sarek requires a samplesheet, that contains, at minumum, 5 columns:\n",
    "1. your patient IDs\n",
    "2. sample IDs\n",
    "3. [sequencing lane number](https://www.biostars.org/p/48906/)\n",
    "4. Read 1, and \n",
    "5. Read 2 sequence data files (fastq files) associated with them. \n",
    "Details about the required samplesheet structure, as well as an example samplesheet, can be see [here](https://nf-co.re/sarek/3.2.3/docs/usage#input-sample-sheet-configurations)."
   ]
  },
  {
   "cell_type": "markdown",
   "id": "e13d7e44-91c4-435c-b642-7ce5949d78bd",
   "metadata": {},
   "source": [
    "<div class=\"alert alert-block alert-danger\">\n",
    "IMPORTANT: this section requires considerable user input, as the sample names and data files differ between projects. Care must be taken to enter the data correctly, case-sensitive with no extra spaces or missing information. At the end of this section you can view your created samples table to see if you have entered the information correctly. If not, you can re-run this whole section to recreate the samplesheet.\n",
    "</div>"
   ]
  },
  {
   "cell_type": "markdown",
   "id": "bda92f25-5689-4e45-911d-738e5b8cf384",
   "metadata": {},
   "source": [
    "<div class=\"alert alert-block alert-danger\">\n",
    "FASTQ FILE NAMING CONVENTIONS: sequence data files (fastq files) are typically paired-end, with two fastq files per sample, Read 1 (R1) and Read 2 (R2). In addition, fastq files are typically gzipped ('filename.fastq.gz' - nfcore/sarek requirs this) and may be named 'fastq' or just 'fq'. This results in a few different naming patterns. To create your samplesheet correctly, you need to enter the naming patterns that match your fastq files in the code cells below (i.e. the last few characters at the end of each file that are teh same in ALL Read 1 and ALL Read 2 files respectively). Some examples of fastq naming conventions can be `R1_001.fastq.gz`, `1_fq.gz`, `R2_fq.gz`, `2_fastq.gz', etc.  \n",
    "</div>"
   ]
  },
  {
   "cell_type": "markdown",
   "id": "1a8add97-a235-41ed-8143-ba8a149f2c54",
   "metadata": {},
   "source": [
    "For more information about fastq files, see [here](https://knowledge.illumina.com/software/general/software-general-reference_material-list/000002211)."
   ]
  },
  {
   "cell_type": "markdown",
   "id": "6c40ad2f-0bab-4197-bede-42a92fe60aad",
   "metadata": {},
   "source": [
    "<div class=\"alert alert-block alert-info\">\n",
    "First, input the common naming pattern of your Read 1 data files. You can see this from the `ls` command above.\n",
    "</div>"
   ]
  },
  {
   "cell_type": "code",
   "execution_count": 6,
   "id": "203679f2-0188-400d-862f-8b77371e6245",
   "metadata": {
    "tags": []
   },
   "outputs": [],
   "source": [
    "fq1_format=R1_001.fastq.gz"
   ]
  },
  {
   "cell_type": "markdown",
   "id": "1ebd134f-084c-49d0-862e-07ac52a9205b",
   "metadata": {},
   "source": [
    "<div class=\"alert alert-block alert-info\">\n",
    "Enter the Read 2 files naming pattern.\n",
    "</div>"
   ]
  },
  {
   "cell_type": "code",
   "execution_count": 5,
   "id": "da9c48fb-955e-49a6-901c-0f3f6175a274",
   "metadata": {
    "tags": []
   },
   "outputs": [],
   "source": [
    "fq2_format=R2_001.fastq.gz"
   ]
  },
  {
   "cell_type": "markdown",
   "id": "398068ae-e4f4-42c5-9d69-53de77b760b6",
   "metadata": {},
   "source": [
    "<div class=\"alert alert-block alert-success\">\n",
    "Now you should be able to generate the samplesheet columns for Read 1 and Read 2, by running the below code cell:\n",
    "</div>"
   ]
  },
  {
   "cell_type": "code",
   "execution_count": 7,
   "id": "092a3ee9-218e-4516-8a7f-8e0ed585787d",
   "metadata": {
    "tags": []
   },
   "outputs": [],
   "source": [
    "# \"$PWD\" adds full path\n",
    "# -maxdepth 1 doesn't look in subdirs\n",
    "find \"$PWD\" -maxdepth 1 -type f -iname \"*$fq1_format\" > forward_reads.txt\n",
    "find \"$PWD\" -maxdepth 1 -type f -iname \"*$fq1_format\" > reverse_reads.txt"
   ]
  },
  {
   "cell_type": "markdown",
   "id": "978d21c2-ddac-446f-87e0-e539a0b49ae8",
   "metadata": {},
   "source": [
    "Now you will need to manually input your samples data (patient ID, sample ID, lane number) in the below code cells."
   ]
  },
  {
   "cell_type": "markdown",
   "id": "d5a8926b-190a-4a30-a837-6d58f0750099",
   "metadata": {},
   "source": [
    "<div class=\"alert alert-block alert-danger\">\n",
    "NOTE: more than one sample may come from a single patient, and samples may span multiple lanes, thus the patient ID and sample ID may need to be entered multiple times. You should know your samples/patient relationship and you can find out about the lane information by contacting your sequencing facility, or by subitting a support request at the eResearch portal: https://eresearchqut.atlassian.net/servicedesk/customer/portals\n",
    "</div>"
   ]
  },
  {
   "cell_type": "markdown",
   "id": "41e87075-5a68-42ab-9f4f-f391b494e686",
   "metadata": {},
   "source": [
    "<div class=\"alert alert-block alert-info\">\n",
    "Enter your patient ID in the code cell below, between 'echo -e ' and ' > patient.txt'. Separate each sample name with a comma. If you only have one sample per patient, your patient name and sample name may be the same. \n",
    "</div>"
   ]
  },
  {
   "cell_type": "code",
   "execution_count": 9,
   "id": "816a9587-86b9-488e-aa90-5ee2609e0688",
   "metadata": {
    "tags": []
   },
   "outputs": [],
   "source": [
    "echo -e IFGMEL012-MEL,IFGMEL012-MEL,IFGMEL017-MEL,IFGMEL017-MEL,IFGMEL020-MEL,IFGMEL020-PBMC,IFGMEL029-MEL,IFGMEL029-PBMC,IFGMEL030-MEL,IFGMEL030-PBMC,IFGMEL035-MELIFGMEL035-PBMC > patient.txt"
   ]
  },
  {
   "cell_type": "markdown",
   "id": "e6c0c7d6-d071-4bf1-b7b4-2968d417a65c",
   "metadata": {},
   "source": [
    "<div class=\"alert alert-block alert-warning\">\n",
    "TIP: make sure you have the same number of patient IDs and sample IDs eneterd as you have Read 1 and Read 2 fastq files. To see how many patient IDs, etc, you need to enter, run the below code cell:\n",
    "</div>"
   ]
  },
  {
   "cell_type": "code",
   "execution_count": 8,
   "id": "a7f85454-dead-49ca-9b80-cd85934aff3b",
   "metadata": {
    "tags": []
   },
   "outputs": [
    {
     "name": "stdout",
     "output_type": "stream",
     "text": [
      "12\n"
     ]
    }
   ],
   "source": [
    "cat forward_reads.txt | wc -l"
   ]
  },
  {
   "cell_type": "markdown",
   "id": "8c033a4b-25ba-4807-af85-2f916884d8ea",
   "metadata": {},
   "source": [
    "<div class=\"alert alert-block alert-info\">\n",
    "Enter your sample ID in the code cell below. If the patient and sample IDs are the same, you can copy and paste the entire cell contents from the paitent ID cell above. \n",
    "</div>"
   ]
  },
  {
   "cell_type": "code",
   "execution_count": 19,
   "id": "d5550871-00cf-4398-8e3c-01afc24124a0",
   "metadata": {
    "tags": []
   },
   "outputs": [],
   "source": [
    "echo -e IFGMEL012-MEL,IFGMEL012-MEL,IFGMEL017-MEL,IFGMEL017-MEL,IFGMEL020-MEL,IFGMEL020-PBMC,IFGMEL029-MEL,IFGMEL029-PBMC,IFGMEL030-MEL,IFGMEL030-PBMC,IFGMEL035-MELIFGMEL035-PBMC > sample.txt"
   ]
  },
  {
   "cell_type": "markdown",
   "id": "27b95a7c-01a3-4044-bed6-eb9e7bcaba37",
   "metadata": {},
   "source": [
    "<div class=\"alert alert-block alert-info\">\n",
    "Enter the lane numbers for each sample. Again, some samples may be sequenced across multiple lanes. This information is provided by your sequencing facility. If none of your samples were sequenced across multiple lanes, you can just enter `lane_1, lane_2, lane_3....` etc. \n",
    "</div>"
   ]
  },
  {
   "cell_type": "code",
   "execution_count": 20,
   "id": "a7daf542-94bf-41ff-a36b-7c423d8fc92e",
   "metadata": {
    "tags": []
   },
   "outputs": [],
   "source": [
    "echo -e lane_1,lane_2,lane_1,lane_2,lane_1,lane_1,lane_1,lane_1,lane_1,lane_1,lane_1,lane_1 > lane.txt"
   ]
  },
  {
   "cell_type": "markdown",
   "id": "6cdfd14d-a454-4327-986a-5a5780d81bc7",
   "metadata": {},
   "source": [
    "<div class=\"alert alert-block alert-success\">\n",
    "Run the below code cell to convert all you sample information files to columns.\n",
    "</div>"
   ]
  },
  {
   "cell_type": "code",
   "execution_count": 21,
   "id": "7778920d-3576-4845-bdb2-0fb247dd2a97",
   "metadata": {
    "tags": []
   },
   "outputs": [],
   "source": [
    "# Substitues the commas with a newline\n",
    "cat patient.txt | tr , \\\\n > patient_ID.txt\n",
    "cat sample.txt | tr , \\\\n > sample_ID.txt\n",
    "cat lane.txt | tr , \\\\n > lane_ID.txt"
   ]
  },
  {
   "cell_type": "markdown",
   "id": "42f0bd49-d5b8-4105-884a-221fe616020b",
   "metadata": {},
   "source": [
    "<div class=\"alert alert-block alert-success\">\n",
    "Now combine all the columns into a single table.\n",
    "</div>"
   ]
  },
  {
   "cell_type": "code",
   "execution_count": null,
   "id": "5c6420c0-77a3-4461-bb33-e9075fe0d804",
   "metadata": {},
   "outputs": [],
   "source": []
  },
  {
   "cell_type": "code",
   "execution_count": null,
   "id": "d9559b00-e431-4508-a5c0-7fc5a5ccad77",
   "metadata": {},
   "outputs": [],
   "source": []
  },
  {
   "cell_type": "code",
   "execution_count": null,
   "id": "1947f08f-4763-4920-be83-8f5589f70885",
   "metadata": {},
   "outputs": [],
   "source": []
  },
  {
   "cell_type": "code",
   "execution_count": 10,
   "id": "b5d53d58-5ad1-4b8c-a2db-93c051f933c8",
   "metadata": {
    "tags": []
   },
   "outputs": [
    {
     "name": "stdout",
     "output_type": "stream",
     "text": [
      "IFGMEL012-MEL,IFGMEL012-MEL,IFGMEL017-MEL,IFGMEL017-MEL,IFGMEL020-MEL,IFGMEL020-PBMC,IFGMEL029-MEL,IFGMEL029-PBMC,IFGMEL030-MEL,IFGMEL030-PBMC,IFGMEL035-MELIFGMEL035-PBMC\n"
     ]
    }
   ],
   "source": [
    "cat patient.txt"
   ]
  },
  {
   "cell_type": "code",
   "execution_count": 16,
   "id": "da6b4cc8-c526-4d7d-9d91-f638b81ee2b2",
   "metadata": {},
   "outputs": [
    {
     "name": "stdout",
     "output_type": "stream",
     "text": [
      "IFGMEL012-MEL  IFGMEL012-MEL  IFGMEL017-MEL  IFGMEL017-MEL  IFGMEL020-MEL  IFGMEL020-PBMC  IFGMEL029-MEL  IFGMEL029-PBMC  IFGMEL030-MEL  IFGMEL030-PBMC  IFGMEL035-MELIFGMEL035-PBMC\n"
     ]
    }
   ],
   "source": [
    "column -t -s, patient.txt"
   ]
  },
  {
   "cell_type": "code",
   "execution_count": 18,
   "id": "ccbcd68b-f102-4fa3-954f-14370238c421",
   "metadata": {
    "tags": []
   },
   "outputs": [
    {
     "name": "stdout",
     "output_type": "stream",
     "text": [
      "IFGMEL012-MEL\n",
      "IFGMEL012-MEL\n",
      "IFGMEL017-MEL\n",
      "IFGMEL017-MEL\n",
      "IFGMEL020-MEL\n",
      "IFGMEL020-PBMC\n",
      "IFGMEL029-MEL\n",
      "IFGMEL029-PBMC\n",
      "IFGMEL030-MEL\n",
      "IFGMEL030-PBMC\n",
      "IFGMEL035-MELIFGMEL035-PBMC\n"
     ]
    }
   ],
   "source": [
    "cat patient.txt | tr , \\\\n"
   ]
  },
  {
   "cell_type": "code",
   "execution_count": null,
   "id": "32aa18bb-95e7-453f-a834-b671b371a1bf",
   "metadata": {},
   "outputs": [],
   "source": [
    "# Combine it column-wise\n",
    "paste sample_ID.txt forward_reads.txt reverse_reads.txt > files_cols.txt\n",
    "\n",
    "# Add headers\n",
    "echo -e \"sampleID\\tforwardReads\\treverseReads\" | cat - files_cols.txt > files.tsv\n",
    "\n",
    "# Cleanup\n",
    "rm *.txt"
   ]
  }
 ],
 "metadata": {
  "kernelspec": {
   "display_name": "Bash .conda-jupyterhub *",
   "language": "bash",
   "name": "conda-env-.conda-jupyterhub-bash"
  },
  "language_info": {
   "codemirror_mode": "shell",
   "file_extension": ".sh",
   "mimetype": "text/x-sh",
   "name": "bash"
  }
 },
 "nbformat": 4,
 "nbformat_minor": 5
}
