{
 "cells": [
  {
   "cell_type": "markdown",
   "id": "3beee1c1-9fc9-4a4a-8b35-9ed1a0b7076d",
   "metadata": {},
   "source": [
    "# 1. nfcore/sarek workflow"
   ]
  },
  {
   "cell_type": "markdown",
   "id": "961e70bc-c327-484a-b254-013827c3ca41",
   "metadata": {},
   "source": [
    "From the [nfcore/sarek website](https://nf-co.re/sarek/3.2.3):\n",
    "\n",
    "> nf-core/sarek is a workflow designed to detect variants on whole genome or targeted sequencing data. Initially designed for Human, and Mouse, it can work on any species with a reference genome.\n",
    "\n",
    "> The pipeline is built using [Nextflow](https://www.nextflow.io/), a workflow tool to run tasks across multiple compute infrastructures in a very portable manner."
   ]
  },
  {
   "cell_type": "markdown",
   "id": "f367d4b0-0652-44ab-a6de-6044a4baa52b",
   "metadata": {},
   "source": [
    "# Contents\n",
    "\n",
    "[1a. Prerequisites](#prereq2)\n",
    "\n",
    "[1b. nfcore/sarek workflow overview](#overview2)\n",
    "\n",
    "[1c. Running a test dataset](#test)\n",
    "\n",
    "[1d. Initial setup](#setup)\n",
    "\n",
    "[1e. Creating a samplesheet](#sampsheet)"
   ]
  },
  {
   "cell_type": "markdown",
   "id": "c7485bac-9eef-4564-8209-0c092e5d29f0",
   "metadata": {},
   "source": [
    "**************"
   ]
  },
  {
   "cell_type": "markdown",
   "id": "cd1a0fa2-33f0-4e54-9a99-06b7d536408a",
   "metadata": {},
   "source": [
    "## 1a. Prerequisites <a class=\"anchor\" id=\"prereq2\"></a>"
   ]
  },
  {
   "cell_type": "markdown",
   "id": "8a1e1d4c-6f92-4ff6-9ff0-09b5c46faa74",
   "metadata": {},
   "source": [
    "To run the nfcore/sarek workflow, you will need:"
   ]
  },
  {
   "cell_type": "markdown",
   "id": "d26aed91-a2c8-4f3f-ba2c-f7810024c5cd",
   "metadata": {},
   "source": [
    "1. **A QUT HPC account.** If you are seeing this Notebook, you most likely already have a HPC account. Regardless, you can request an account be created, or request any other HPC or bioinformatics support, via the portal here: https://eresearchqut.atlassian.net/servicedesk/customer/portals\n",
    "\n",
    "2. Nextflow needs to be installed on your HPC account. **If you haven't already installed Nextflow, or you need to update Nextflow to the latest version, click on the following link, which will download and open a Jupyter Notebook that will step you through installing Nextflow:** https://jupyterhub.eres.qut.edu.au/hub/user-redirect/git-pull?repo=https%3A%2F%2Fgithub.com%2Feresearchqut%2FJupyter_Nextflow_install&urlpath=lab%2Ftree%2FJupyter_Nextflow_install%2FNextflow.ipynb&branch=main\n",
    "\n",
    "3. **Your sequence data files** (fastq.gz format) copied to a location on the QUT HPC that you can access. If you are unsure of the location of your data files, submit a service request through the portal (link above)."
   ]
  },
  {
   "cell_type": "markdown",
   "id": "1159786e-4af5-4204-8140-455ca9f4f62c",
   "metadata": {},
   "source": [
    "*************"
   ]
  },
  {
   "cell_type": "markdown",
   "id": "be7f4f8d-80da-4dd8-9b6b-0052d6fa4e96",
   "metadata": {},
   "source": [
    "## 1b. nfcore/sarek workflow overview <a class=\"anchor\" id=\"overview2\"></a>"
   ]
  },
  {
   "cell_type": "markdown",
   "id": "8ba14840-c1d8-4160-8daf-cc52932780fa",
   "metadata": {},
   "source": [
    "Below is an schematic outlining the nfcore/sarek workflow. For a more detailed overview, click [here](https://nf-co.re/sarek/3.2.3). To see how to run nfcore/sarek from the command-line, see [here](https://nf-co.re/sarek/3.2.3/docs/usage). To see what results nfcore/sarek generates, click [here](https://nf-co.re/sarek/3.2.3/docs/output)."
   ]
  },
  {
   "cell_type": "markdown",
   "id": "cd6784bd-9b45-4d50-b8ff-f2a6bddc39ab",
   "metadata": {
    "tags": []
   },
   "source": [
    "<div>\n",
    "<img src=\"https://raw.githubusercontent.com/nf-core/sarek/3.2.3//docs/images/sarek_workflow.png\" width=\"300\">\n",
    "    </div>"
   ]
  },
  {
   "cell_type": "markdown",
   "id": "81b3775e-97d3-4968-8ab3-297689a462ee",
   "metadata": {},
   "source": [
    "**************"
   ]
  },
  {
   "cell_type": "markdown",
   "id": "dbf24bf9-bfaf-4dc6-8f22-ca0672bbb652",
   "metadata": {},
   "source": [
    "## 1c. Running a test dataset <a class=\"anchor\" id=\"test\"></a>"
   ]
  },
  {
   "cell_type": "markdown",
   "id": "906a0565-7d56-466f-bf4e-1b70f00f72ea",
   "metadata": {},
   "source": [
    "This section will run a small test dataset through the nfcore/sarek workflow, to see if you can successfully run nfcore/sarek."
   ]
  },
  {
   "cell_type": "markdown",
   "id": "fe709295-5875-4841-ae88-dc7a2da60e1a",
   "metadata": {},
   "source": [
    "<div class=\"alert alert-block alert-success\">\n",
    "Run the following code cell to run the nfcore/sarek test. Note that this is set to run without output messages (`-q`) as these will span multiple pages. Instead `nextflow log -f status` is run after the test run has finished, to see if the job ran sucessfully. The test takes approx 3 minutes to complete.\n",
    "</div>"
   ]
  },
  {
   "cell_type": "code",
   "execution_count": null,
   "id": "696e0251-f0dd-44c5-a8d5-7d2873f53222",
   "metadata": {
    "tags": []
   },
   "outputs": [],
   "source": [
    "nextflow -q run nf-core/sarek -r 3.2.2 --outdir test -profile test,singularity\n",
    "nextflow log -f status"
   ]
  },
  {
   "cell_type": "markdown",
   "id": "4f6e5cdb-7dd4-45d0-b145-8011e3cef24e",
   "metadata": {},
   "source": [
    "**In the last 3 lines you should see a table with `TIMESTAMP` .. `DURATION`, etc (You can ignore any `WARN` messages). If the `STATUS` is `OK` then the test run was successful and you can go to the next section. If you don't see `STATUS` being `OK`, submit a support request through the [Portal](https://eresearchqut.atlassian.net/servicedesk/customer/portals).** "
   ]
  },
  {
   "cell_type": "markdown",
   "id": "dde31913-1ee6-4090-b9b9-b5b4146a65d7",
   "metadata": {},
   "source": [
    "*************"
   ]
  },
  {
   "cell_type": "markdown",
   "id": "4880d082-6c1d-403b-a81f-867f3b58831a",
   "metadata": {},
   "source": [
    "## 1d. Initial setup <a class=\"anchor\" id=\"setup\"></a>"
   ]
  },
  {
   "cell_type": "markdown",
   "id": "bbd460a7-d7db-40e5-b1dc-6468ec717691",
   "metadata": {},
   "source": [
    "<div class=\"alert alert-block alert-info\">\n",
    "Enter the directory that contains your sequence data files. You can find this directory path by typing 'pwd' on the command-line when you are in that directory, or by contacting the HPC staff via the [portal](https://eresearchqut.atlassian.net/servicedesk/customer/portals). The structure of the below command should be `root_path=/directory/containing/my/vcf/files`.\n",
    "</div>"
   ]
  },
  {
   "cell_type": "code",
   "execution_count": null,
   "id": "0b9b49f1-5732-43cf-9670-116307edacf6",
   "metadata": {
    "tags": []
   },
   "outputs": [],
   "source": [
    "root_path=/work/eresearch_bio/projects/ATGC/Andrea_Magnioni/20230725_WES/data"
   ]
  },
  {
   "cell_type": "markdown",
   "id": "3e3f9ebb-3816-45b1-8ba3-ab94806aa195",
   "metadata": {},
   "source": [
    "<div class=\"alert alert-block alert-success\">\n",
    "Now move to the above directory (cd = change directory): \n",
    "</div>"
   ]
  },
  {
   "cell_type": "code",
   "execution_count": null,
   "id": "7c46b359-c950-45ab-a8bc-00820eb64709",
   "metadata": {
    "tags": []
   },
   "outputs": [],
   "source": [
    "cd $root_path"
   ]
  },
  {
   "cell_type": "markdown",
   "id": "0e48d375-27ea-4c91-9567-5c81129c1e3b",
   "metadata": {},
   "source": [
    "**NOTE: the above two code cells must be run every time you use this Notebook.**"
   ]
  },
  {
   "cell_type": "markdown",
   "id": "91c12e24-2ec2-4f91-afea-402a01b89626",
   "metadata": {},
   "source": [
    "<div class=\"alert alert-block alert-warning\">\n",
    "To see if you are in the correct directory, run the 'ls' code cell below. You should see a list of all your sample files ('...fastq.gz' or '...fq.gz' files). If you don't see the files, you've entered the above location incorrectly and need to correct and re-run the above code cell.\n",
    "</div>"
   ]
  },
  {
   "cell_type": "code",
   "execution_count": null,
   "id": "9928d8f5-d4e4-4f6e-ad91-32467a0e35f0",
   "metadata": {},
   "outputs": [],
   "source": [
    "ls"
   ]
  },
  {
   "cell_type": "markdown",
   "id": "9d3131be-8581-4bea-aafe-99169bd785de",
   "metadata": {},
   "source": [
    "********"
   ]
  },
  {
   "cell_type": "markdown",
   "id": "cfd48686-4c96-48c2-8770-1d5f72a1ab92",
   "metadata": {},
   "source": [
    "## 1e. Creating a samplesheet <a class=\"anchor\" id=\"sampsheet\"></a>"
   ]
  },
  {
   "cell_type": "markdown",
   "id": "8635a814-0217-4a07-8c7d-dcd1109cb019",
   "metadata": {},
   "source": [
    "nfcore/sarek requires a samplesheet, that conatins, at minumum, your patient IDs, sample IDs, [sequencing lane number](https://www.biostars.org/p/48906/), and the sequence data files (fastq files) associated with them. Details about the required samplesheet structure, as well as an example samplesheet, can be see [here](https://nf-co.re/sarek/3.2.3/docs/usage#input-sample-sheet-configurations)."
   ]
  },
  {
   "cell_type": "markdown",
   "id": "e13d7e44-91c4-435c-b642-7ce5949d78bd",
   "metadata": {},
   "source": [
    "**IMPORTANT: this section requires considerable user input, as the sample names and data files differ between projects. Care must be taken to enter the data correctly, case-sensitive with no extra spaces or missing information. At the end of this section you can view your created samples table to see if you have entered the information correctly. If not, you can re-run this whole section to recreate the samplesheet.**"
   ]
  },
  {
   "cell_type": "markdown",
   "id": "6c40ad2f-0bab-4197-bede-42a92fe60aad",
   "metadata": {},
   "source": [
    "<div class=\"alert alert-block alert-info\">\n",
    "First, input the naming convention of your data files. You can see this from the `ls` command above. They should either be `.fastq.gz` ( or `.fq.gz`. \n",
    "</div>"
   ]
  },
  {
   "cell_type": "code",
   "execution_count": null,
   "id": "203679f2-0188-400d-862f-8b77371e6245",
   "metadata": {},
   "outputs": [],
   "source": [
    "fq_format=*.fastq.gz"
   ]
  },
  {
   "cell_type": "code",
   "execution_count": null,
   "id": "f5e77b16-5853-4b6f-bdad-dee3069ade24",
   "metadata": {},
   "outputs": [],
   "source": []
  },
  {
   "cell_type": "code",
   "execution_count": null,
   "id": "092a3ee9-218e-4516-8a7f-8e0ed585787d",
   "metadata": {},
   "outputs": [],
   "source": []
  },
  {
   "cell_type": "code",
   "execution_count": null,
   "id": "42edd83c-cc65-422a-8356-63ee1c53610a",
   "metadata": {},
   "outputs": [],
   "source": []
  },
  {
   "cell_type": "code",
   "execution_count": null,
   "id": "da6b4cc8-c526-4d7d-9d91-f638b81ee2b2",
   "metadata": {},
   "outputs": [],
   "source": []
  }
 ],
 "metadata": {
  "kernelspec": {
   "display_name": "Bash .conda-jupyterhub *",
   "language": "bash",
   "name": "conda-env-.conda-jupyterhub-bash"
  },
  "language_info": {
   "codemirror_mode": "shell",
   "file_extension": ".sh",
   "mimetype": "text/x-sh",
   "name": "bash"
  }
 },
 "nbformat": 4,
 "nbformat_minor": 5
}
