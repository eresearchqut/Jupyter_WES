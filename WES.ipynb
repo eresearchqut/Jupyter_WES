{
 "cells": [
  {
   "cell_type": "markdown",
   "id": "e9dc7ab8-f338-4649-af0a-c14041272ebf",
   "metadata": {},
   "source": [
    "# Variant calling"
   ]
  },
  {
   "cell_type": "markdown",
   "id": "801cbd84-0acd-417c-b1c0-e9de82137d75",
   "metadata": {},
   "source": [
    "This is a [Jupyter notebook](https://jupyter.org/) containing a guide and workflow for detecting variants on whole genome or targeted sequencing data. It is comprised of two parts:\n",
    "\n",
    "1. Variant detection using the nfcore/sarek pipeline (https://nf-co.re/sarek) which is a variant calling and annotation pipeline built in the [Nextflow](https://www.nextflow.io/) workflow manager system.\n",
    "\n",
    "2. Identification of functional variants. nfcore/sarek annotates variants using the [SNPEff package](http://pcingola.github.io/SnpEff/). In this section we use [SNPSift](http://pcingola.github.io/SnpEff/snpsift/introduction/) to filter the variants for biologically relevant variants.\n",
    "\n",
    "This workflow was prepared by the [eResearch Office, QUT.](https://qutvirtual4.qut.edu.au/group/staff/governance/organisational-structure/academic-division/research-portfolio/research-infrastructure/eresearch)"
   ]
  },
  {
   "cell_type": "markdown",
   "id": "efe5b65d-e88e-4d27-b9fb-623f242c70bf",
   "metadata": {},
   "source": [
    "**********************************"
   ]
  },
  {
   "cell_type": "markdown",
   "id": "072f1813-ea6e-478e-8032-614d531808ca",
   "metadata": {
    "tags": []
   },
   "source": [
    "# Contents\n",
    "[How to use this Jupyter Notebook](#overview)\n",
    "\n",
    "1. [nfcore/sarek workflow](./WES_1.ipynb)\n",
    "\n",
    "2. [Identification of functional variants](./WES_2.ipynb)\n",
    "\n",
    "Clicking on the above links will open a separate Jupyter Notebook to run either of the two main analysis sections.\n"
   ]
  },
  {
   "cell_type": "markdown",
   "id": "60b50b99-bc0b-40b7-9aa3-0a9a05f497d2",
   "metadata": {},
   "source": [
    "***************************"
   ]
  },
  {
   "cell_type": "markdown",
   "id": "f2e04ff7-f387-4715-a007-f2c3044ad055",
   "metadata": {},
   "source": [
    "## How to use this Jupyter Notebook <a class=\"anchor\" id=\"overview\"></a>"
   ]
  },
  {
   "cell_type": "markdown",
   "id": "f93aa7ce-fed1-4b6e-ac64-9c33198d086b",
   "metadata": {},
   "source": [
    "Juypter Notebooks run a 'kernel' that allow code to be run in code 'cells' in the Notebook. This Notebook is running the BASH kernel, which allows for commands to be run on QUTs high performance compute cluster (HPC)."
   ]
  },
  {
   "cell_type": "markdown",
   "id": "dc8c067d-ba4a-4eb2-acde-ea1d9e373df5",
   "metadata": {},
   "source": [
    "You can run a code cell by clicking on the cell itself and clicking the run button (at the top of this Notebook), or by pressing shift+enter."
   ]
  },
  {
   "cell_type": "markdown",
   "id": "53502516-4241-4d43-9a8e-b699c775777e",
   "metadata": {
    "tags": []
   },
   "source": [
    "![](https://data36.com/wp-content/uploads/2021/07/how-to-run-cell-in-jupyter-notebook.png)"
   ]
  },
  {
   "cell_type": "markdown",
   "id": "6881df44-dfb3-4dd1-bbc5-2a106e03e37d",
   "metadata": {},
   "source": [
    "<div class=\"alert alert-block alert-warning\">\n",
    "As an example, run the following code cell to list the contents of your HPC home directory.\n",
    "</div>"
   ]
  },
  {
   "cell_type": "code",
   "execution_count": 3,
   "id": "bc70290d-a1a2-4953-90c9-6ea4b7a04c75",
   "metadata": {
    "tags": []
   },
   "outputs": [
    {
     "name": "stdout",
     "output_type": "stream",
     "text": [
      "Afshin                                nextflow\n",
      "anacapa                               Nextflow_pipelines\n",
      "Angelico                              NTNU_2301\n",
      "Annette                               NXF_CONDA_CACHEDIR\n",
      "bin                                   NXF_SINGULARITY_CACHEDIR\n",
      "edirect                               pipeliner\n",
      "errors.log                            projectxx_final_results\n",
      "git                                   public_html\n",
      "go                                    R\n",
      "IMR_scale_slime                       rachel\n",
      "James_Stanley_groundwater_microbiome  Rolf_bactocell\n",
      "Jupyter_Nextflow_install              rolf_erik\n",
      "jupyter_notebooks                     sam_dando\n",
      "Jupyter_WES                           singularity\n",
      "liver_project_final_results           temp\n",
      "local                                 tmux\n",
      "mahsa                                 Vikki_horses_pacbio16s\n",
      "marco                                 WGS_police\n",
      "miniconda2                            wtdbg2\n",
      "miniconda3                            yeast_annotation\n",
      "Monika\n"
     ]
    }
   ],
   "source": [
    "ls $HOME"
   ]
  },
  {
   "cell_type": "markdown",
   "id": "66740224-306b-4dec-802a-171d4a05152f",
   "metadata": {},
   "source": [
    "**Before each code cell is a colour-coded text box that tells you what the cell does. The colour of the text box tells you whether a code cell is required to run as-is, optional or if it requires you to type input.** "
   ]
  },
  {
   "cell_type": "markdown",
   "id": "c2e143d9-90b3-4e59-a83f-ab39430166e4",
   "metadata": {},
   "source": [
    "<div class=\"alert alert-block alert-success\">\n",
    "A green text box indicates a code cell that must be run, without alteration, to complete the workflow.\n",
    "</div>"
   ]
  },
  {
   "cell_type": "markdown",
   "id": "81751c7c-0f04-4ca8-82ab-34fd7ad125df",
   "metadata": {},
   "source": [
    "<div class=\"alert alert-block alert-warning\">\n",
    "A yellow text box indicates an optional code cell that doesn't have to be run to complete the workflow, but can be run to complete optional tasks.\n",
    "</div>"
   ]
  },
  {
   "cell_type": "markdown",
   "id": "c08e9b01-aee8-4d72-a047-6d0293bdb0d8",
   "metadata": {},
   "source": [
    "<div class=\"alert alert-block alert-info\">\n",
    "A blue text box indicates a code cell that requires user input - this cell also must be run to complete the workflow, but the user needs to modify the command in the cell.\n",
    "</div>"
   ]
  },
  {
   "cell_type": "markdown",
   "id": "824b7b42-0611-4ff0-a3fd-9fb500f05147",
   "metadata": {},
   "source": [
    "*******************************"
   ]
  },
  {
   "cell_type": "markdown",
   "id": "fb5ad10d-e63e-4b6b-87d1-0941355206f9",
   "metadata": {},
   "source": [
    "[**Click here to open the nfcore/sarek Notebook**](./WES_1.ipynb)"
   ]
  },
  {
   "cell_type": "code",
   "execution_count": null,
   "id": "2a8f79fb-bacf-4a7e-af8b-7640c8d4a7ce",
   "metadata": {},
   "outputs": [],
   "source": []
  }
 ],
 "metadata": {
  "kernelspec": {
   "display_name": "Bash .conda-jupyterhub *",
   "language": "bash",
   "name": "conda-env-.conda-jupyterhub-bash"
  },
  "language_info": {
   "codemirror_mode": "shell",
   "file_extension": ".sh",
   "mimetype": "text/x-sh",
   "name": "bash"
  }
 },
 "nbformat": 4,
 "nbformat_minor": 5
}
